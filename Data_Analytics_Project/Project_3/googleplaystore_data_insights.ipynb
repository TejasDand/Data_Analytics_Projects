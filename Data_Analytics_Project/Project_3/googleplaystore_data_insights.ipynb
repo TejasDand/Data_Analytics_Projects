{
 "cells": [
  {
   "cell_type": "code",
   "execution_count": 1,
   "metadata": {},
   "outputs": [],
   "source": [
    "import pandas as pd\n",
    "import warnings\n",
    "warnings.simplefilter(action='ignore', category=FutureWarning)"
   ]
  },
  {
   "cell_type": "code",
   "execution_count": 2,
   "metadata": {},
   "outputs": [
    {
     "data": {
      "text/html": [
       "<div>\n",
       "<style scoped>\n",
       "    .dataframe tbody tr th:only-of-type {\n",
       "        vertical-align: middle;\n",
       "    }\n",
       "\n",
       "    .dataframe tbody tr th {\n",
       "        vertical-align: top;\n",
       "    }\n",
       "\n",
       "    .dataframe thead th {\n",
       "        text-align: right;\n",
       "    }\n",
       "</style>\n",
       "<table border=\"1\" class=\"dataframe\">\n",
       "  <thead>\n",
       "    <tr style=\"text-align: right;\">\n",
       "      <th></th>\n",
       "      <th>App</th>\n",
       "      <th>Category</th>\n",
       "      <th>Rating</th>\n",
       "      <th>Reviews</th>\n",
       "      <th>Size</th>\n",
       "      <th>Installs</th>\n",
       "      <th>Type</th>\n",
       "      <th>Price</th>\n",
       "      <th>Content Rating</th>\n",
       "      <th>Last Updated Date</th>\n",
       "      <th>Last Updated Month</th>\n",
       "      <th>Last Updated Year</th>\n",
       "    </tr>\n",
       "  </thead>\n",
       "  <tbody>\n",
       "    <tr>\n",
       "      <th>0</th>\n",
       "      <td>Photo Editor &amp; Candy Camera &amp; Grid &amp; ScrapBook</td>\n",
       "      <td>ART_AND_DESIGN</td>\n",
       "      <td>4.1</td>\n",
       "      <td>159.0</td>\n",
       "      <td>19.0</td>\n",
       "      <td>10000.0</td>\n",
       "      <td>Free</td>\n",
       "      <td>0.0</td>\n",
       "      <td>Everyone</td>\n",
       "      <td>2018-01-07</td>\n",
       "      <td>January</td>\n",
       "      <td>2018.0</td>\n",
       "    </tr>\n",
       "    <tr>\n",
       "      <th>1</th>\n",
       "      <td>Coloring book moana</td>\n",
       "      <td>ART_AND_DESIGN</td>\n",
       "      <td>3.9</td>\n",
       "      <td>967.0</td>\n",
       "      <td>14.0</td>\n",
       "      <td>500000.0</td>\n",
       "      <td>Free</td>\n",
       "      <td>0.0</td>\n",
       "      <td>Everyone</td>\n",
       "      <td>2018-01-15</td>\n",
       "      <td>January</td>\n",
       "      <td>2018.0</td>\n",
       "    </tr>\n",
       "    <tr>\n",
       "      <th>2</th>\n",
       "      <td>U Launcher Lite – FREE Live Cool Themes, Hide ...</td>\n",
       "      <td>ART_AND_DESIGN</td>\n",
       "      <td>4.7</td>\n",
       "      <td>87510.0</td>\n",
       "      <td>8.7</td>\n",
       "      <td>5000000.0</td>\n",
       "      <td>Free</td>\n",
       "      <td>0.0</td>\n",
       "      <td>Everyone</td>\n",
       "      <td>2018-08-01</td>\n",
       "      <td>August</td>\n",
       "      <td>2018.0</td>\n",
       "    </tr>\n",
       "    <tr>\n",
       "      <th>3</th>\n",
       "      <td>Sketch - Draw &amp; Paint</td>\n",
       "      <td>ART_AND_DESIGN</td>\n",
       "      <td>4.5</td>\n",
       "      <td>215644.0</td>\n",
       "      <td>25.0</td>\n",
       "      <td>50000000.0</td>\n",
       "      <td>Free</td>\n",
       "      <td>0.0</td>\n",
       "      <td>Teen</td>\n",
       "      <td>2018-06-08</td>\n",
       "      <td>June</td>\n",
       "      <td>2018.0</td>\n",
       "    </tr>\n",
       "    <tr>\n",
       "      <th>4</th>\n",
       "      <td>Pixel Draw - Number Art Coloring Book</td>\n",
       "      <td>ART_AND_DESIGN</td>\n",
       "      <td>4.3</td>\n",
       "      <td>967.0</td>\n",
       "      <td>2.8</td>\n",
       "      <td>100000.0</td>\n",
       "      <td>Free</td>\n",
       "      <td>0.0</td>\n",
       "      <td>Everyone</td>\n",
       "      <td>2018-06-20</td>\n",
       "      <td>June</td>\n",
       "      <td>2018.0</td>\n",
       "    </tr>\n",
       "  </tbody>\n",
       "</table>\n",
       "</div>"
      ],
      "text/plain": [
       "                                                 App        Category  Rating  \\\n",
       "0     Photo Editor & Candy Camera & Grid & ScrapBook  ART_AND_DESIGN     4.1   \n",
       "1                                Coloring book moana  ART_AND_DESIGN     3.9   \n",
       "2  U Launcher Lite – FREE Live Cool Themes, Hide ...  ART_AND_DESIGN     4.7   \n",
       "3                              Sketch - Draw & Paint  ART_AND_DESIGN     4.5   \n",
       "4              Pixel Draw - Number Art Coloring Book  ART_AND_DESIGN     4.3   \n",
       "\n",
       "    Reviews  Size    Installs  Type  Price Content Rating Last Updated Date  \\\n",
       "0     159.0  19.0     10000.0  Free    0.0       Everyone        2018-01-07   \n",
       "1     967.0  14.0    500000.0  Free    0.0       Everyone        2018-01-15   \n",
       "2   87510.0   8.7   5000000.0  Free    0.0       Everyone        2018-08-01   \n",
       "3  215644.0  25.0  50000000.0  Free    0.0           Teen        2018-06-08   \n",
       "4     967.0   2.8    100000.0  Free    0.0       Everyone        2018-06-20   \n",
       "\n",
       "  Last Updated Month  Last Updated Year  \n",
       "0            January             2018.0  \n",
       "1            January             2018.0  \n",
       "2             August             2018.0  \n",
       "3               June             2018.0  \n",
       "4               June             2018.0  "
      ]
     },
     "execution_count": 2,
     "metadata": {},
     "output_type": "execute_result"
    }
   ],
   "source": [
    "df = pd.read_csv('cleaned_googleplaystore_data(1).csv')\n",
    "df.head()"
   ]
  },
  {
   "cell_type": "code",
   "execution_count": 3,
   "metadata": {},
   "outputs": [
    {
     "name": "stdout",
     "output_type": "stream",
     "text": [
      "<class 'pandas.core.frame.DataFrame'>\n",
      "RangeIndex: 10839 entries, 0 to 10838\n",
      "Data columns (total 12 columns):\n",
      " #   Column              Non-Null Count  Dtype  \n",
      "---  ------              --------------  -----  \n",
      " 0   App                 10839 non-null  object \n",
      " 1   Category            10839 non-null  object \n",
      " 2   Rating              10839 non-null  float64\n",
      " 3   Reviews             10839 non-null  float64\n",
      " 4   Size                10839 non-null  float64\n",
      " 5   Installs            10839 non-null  float64\n",
      " 6   Type                10839 non-null  object \n",
      " 7   Price               10839 non-null  float64\n",
      " 8   Content Rating      10839 non-null  object \n",
      " 9   Last Updated Date   10839 non-null  object \n",
      " 10  Last Updated Month  10839 non-null  object \n",
      " 11  Last Updated Year   10839 non-null  float64\n",
      "dtypes: float64(6), object(6)\n",
      "memory usage: 1016.3+ KB\n"
     ]
    }
   ],
   "source": [
    "df.info()"
   ]
  },
  {
   "cell_type": "code",
   "execution_count": 4,
   "metadata": {},
   "outputs": [
    {
     "data": {
      "text/plain": [
       "App                   0\n",
       "Category              0\n",
       "Rating                0\n",
       "Reviews               0\n",
       "Size                  0\n",
       "Installs              0\n",
       "Type                  0\n",
       "Price                 0\n",
       "Content Rating        0\n",
       "Last Updated Date     0\n",
       "Last Updated Month    0\n",
       "Last Updated Year     0\n",
       "dtype: int64"
      ]
     },
     "execution_count": 4,
     "metadata": {},
     "output_type": "execute_result"
    }
   ],
   "source": [
    "df.isnull().sum()"
   ]
  },
  {
   "cell_type": "code",
   "execution_count": 5,
   "metadata": {},
   "outputs": [
    {
     "data": {
      "text/plain": [
       "(10839, 12)"
      ]
     },
     "execution_count": 5,
     "metadata": {},
     "output_type": "execute_result"
    }
   ],
   "source": [
    "df.shape"
   ]
  },
  {
   "cell_type": "markdown",
   "metadata": {},
   "source": [
    "##### Converting type of some columns"
   ]
  },
  {
   "cell_type": "code",
   "execution_count": 6,
   "metadata": {},
   "outputs": [
    {
     "data": {
      "text/plain": [
       "App                           object\n",
       "Category                    category\n",
       "Rating                       float64\n",
       "Reviews                      float64\n",
       "Size                         float64\n",
       "Installs                       int64\n",
       "Type                          object\n",
       "Price                        float64\n",
       "Content Rating                object\n",
       "Last Updated Date     datetime64[ns]\n",
       "Last Updated Month            object\n",
       "Last Updated Year            float64\n",
       "dtype: object"
      ]
     },
     "execution_count": 6,
     "metadata": {},
     "output_type": "execute_result"
    }
   ],
   "source": [
    "df['Last Updated Date'] = pd.to_datetime(df['Last Updated Date'])\n",
    "df['Category'] = df['Category'].astype('category')\n",
    "df['Installs'] = df['Installs'].astype(int)\n",
    "df.dtypes"
   ]
  },
  {
   "cell_type": "markdown",
   "metadata": {},
   "source": [
    "##### Dropping Duplicates"
   ]
  },
  {
   "cell_type": "code",
   "execution_count": 7,
   "metadata": {},
   "outputs": [
    {
     "data": {
      "text/plain": [
       "(9658, 12)"
      ]
     },
     "execution_count": 7,
     "metadata": {},
     "output_type": "execute_result"
    }
   ],
   "source": [
    "df = df.drop_duplicates(subset='App')\n",
    "df.shape"
   ]
  },
  {
   "cell_type": "markdown",
   "metadata": {},
   "source": [
    "# **Finding Key Insights from Google Play Store Dataset**"
   ]
  },
  {
   "cell_type": "markdown",
   "metadata": {},
   "source": [
    "## **App Popularity & User Engagement**"
   ]
  },
  {
   "cell_type": "markdown",
   "metadata": {},
   "source": [
    "##### Which app category has the most apps listed?"
   ]
  },
  {
   "cell_type": "code",
   "execution_count": 8,
   "metadata": {},
   "outputs": [
    {
     "data": {
      "text/plain": [
       "Category\n",
       "FAMILY      1831\n",
       "GAME         959\n",
       "TOOLS        827\n",
       "BUSINESS     420\n",
       "MEDICAL      395\n",
       "Name: count, dtype: int64"
      ]
     },
     "execution_count": 8,
     "metadata": {},
     "output_type": "execute_result"
    }
   ],
   "source": [
    "df['Category'].value_counts().head()"
   ]
  },
  {
   "cell_type": "markdown",
   "metadata": {},
   "source": [
    "##### Which app has the highest number of installs overall?"
   ]
  },
  {
   "cell_type": "code",
   "execution_count": 9,
   "metadata": {},
   "outputs": [
    {
     "name": "stdout",
     "output_type": "stream",
     "text": [
      "                   App    Installs\n",
      "865  Google Play Games  1000000000\n"
     ]
    }
   ],
   "source": [
    "top_installed_apps = df.sort_values(by='Installs', ascending=False).head(1)\n",
    "print(top_installed_apps[['App', 'Installs']])"
   ]
  },
  {
   "cell_type": "markdown",
   "metadata": {},
   "source": [
    "##### Which category has the most apps with 1M+ installs?"
   ]
  },
  {
   "cell_type": "code",
   "execution_count": 10,
   "metadata": {},
   "outputs": [
    {
     "name": "stdout",
     "output_type": "stream",
     "text": [
      "The category with the most apps having 1M+ installs is 'GAME' with 553 apps.\n"
     ]
    }
   ],
   "source": [
    "filtered_df = df[df['Installs'] >= 1_000_000]\n",
    "category_counts = filtered_df['Category'].value_counts()\n",
    "most_common_category = category_counts.idxmax()\n",
    "most_common_count = category_counts.max()\n",
    "\n",
    "print(f\"The category with the most apps having 1M+ installs is '{most_common_category}' with {most_common_count} apps.\")"
   ]
  },
  {
   "cell_type": "markdown",
   "metadata": {},
   "source": [
    "##### Which app has received the most reviews?"
   ]
  },
  {
   "cell_type": "code",
   "execution_count": 11,
   "metadata": {},
   "outputs": [
    {
     "name": "stdout",
     "output_type": "stream",
     "text": [
      "           App     Reviews\n",
      "2544  Facebook  78158306.0\n"
     ]
    }
   ],
   "source": [
    "top_review_apps = df.sort_values(by='Reviews', ascending=False).head(1)\n",
    "print(top_review_apps[['App', 'Reviews']])"
   ]
  },
  {
   "cell_type": "markdown",
   "metadata": {},
   "source": [
    "##### Which category has the highest average number of installs?"
   ]
  },
  {
   "cell_type": "code",
   "execution_count": 12,
   "metadata": {},
   "outputs": [
    {
     "data": {
      "text/plain": [
       "Category\n",
       "COMMUNICATION    35042146\n",
       "VIDEO_PLAYERS    24091427\n",
       "SOCIAL           22961790\n",
       "ENTERTAINMENT    20722156\n",
       "PHOTOGRAPHY      16545009\n",
       "Name: Installs, dtype: int64"
      ]
     },
     "execution_count": 12,
     "metadata": {},
     "output_type": "execute_result"
    }
   ],
   "source": [
    "df.groupby('Category')['Installs'].mean().sort_values(ascending=False).astype(int).head()"
   ]
  },
  {
   "cell_type": "markdown",
   "metadata": {},
   "source": [
    "##### Is there any correlation between high ratings and high installs?"
   ]
  },
  {
   "cell_type": "code",
   "execution_count": 13,
   "metadata": {},
   "outputs": [
    {
     "data": {
      "text/html": [
       "<div>\n",
       "<style scoped>\n",
       "    .dataframe tbody tr th:only-of-type {\n",
       "        vertical-align: middle;\n",
       "    }\n",
       "\n",
       "    .dataframe tbody tr th {\n",
       "        vertical-align: top;\n",
       "    }\n",
       "\n",
       "    .dataframe thead th {\n",
       "        text-align: right;\n",
       "    }\n",
       "</style>\n",
       "<table border=\"1\" class=\"dataframe\">\n",
       "  <thead>\n",
       "    <tr style=\"text-align: right;\">\n",
       "      <th></th>\n",
       "      <th>Rating</th>\n",
       "      <th>Installs</th>\n",
       "    </tr>\n",
       "  </thead>\n",
       "  <tbody>\n",
       "    <tr>\n",
       "      <th>Rating</th>\n",
       "      <td>1.00000</td>\n",
       "      <td>0.03431</td>\n",
       "    </tr>\n",
       "    <tr>\n",
       "      <th>Installs</th>\n",
       "      <td>0.03431</td>\n",
       "      <td>1.00000</td>\n",
       "    </tr>\n",
       "  </tbody>\n",
       "</table>\n",
       "</div>"
      ],
      "text/plain": [
       "           Rating  Installs\n",
       "Rating    1.00000   0.03431\n",
       "Installs  0.03431   1.00000"
      ]
     },
     "execution_count": 13,
     "metadata": {},
     "output_type": "execute_result"
    }
   ],
   "source": [
    "df[['Rating', 'Installs']].corr()"
   ]
  },
  {
   "cell_type": "markdown",
   "metadata": {},
   "source": [
    "*There is no significant correlation between app ratings and number of installs.*\n",
    "\n",
    "*Just because an app has a high rating doesn't mean it has more installs and just because an app has a lot of installs doesn’t mean it has a higher rating.*"
   ]
  },
  {
   "cell_type": "markdown",
   "metadata": {},
   "source": [
    "##### Is there a relationship between size of the app and number of installs?"
   ]
  },
  {
   "cell_type": "code",
   "execution_count": 28,
   "metadata": {},
   "outputs": [
    {
     "data": {
      "text/html": [
       "<div>\n",
       "<style scoped>\n",
       "    .dataframe tbody tr th:only-of-type {\n",
       "        vertical-align: middle;\n",
       "    }\n",
       "\n",
       "    .dataframe tbody tr th {\n",
       "        vertical-align: top;\n",
       "    }\n",
       "\n",
       "    .dataframe thead th {\n",
       "        text-align: right;\n",
       "    }\n",
       "</style>\n",
       "<table border=\"1\" class=\"dataframe\">\n",
       "  <thead>\n",
       "    <tr style=\"text-align: right;\">\n",
       "      <th></th>\n",
       "      <th>Size</th>\n",
       "      <th>Installs</th>\n",
       "    </tr>\n",
       "  </thead>\n",
       "  <tbody>\n",
       "    <tr>\n",
       "      <th>Size</th>\n",
       "      <td>1.000000</td>\n",
       "      <td>0.033832</td>\n",
       "    </tr>\n",
       "    <tr>\n",
       "      <th>Installs</th>\n",
       "      <td>0.033832</td>\n",
       "      <td>1.000000</td>\n",
       "    </tr>\n",
       "  </tbody>\n",
       "</table>\n",
       "</div>"
      ],
      "text/plain": [
       "              Size  Installs\n",
       "Size      1.000000  0.033832\n",
       "Installs  0.033832  1.000000"
      ]
     },
     "execution_count": 28,
     "metadata": {},
     "output_type": "execute_result"
    }
   ],
   "source": [
    "df[['Size', 'Installs']].corr()"
   ]
  },
  {
   "cell_type": "markdown",
   "metadata": {},
   "source": [
    "*There is almost no linear relationship between the size of an app and how many times it has been installed.*\n",
    "\n",
    "*Size doesn't play a major role in how popular the app is.*"
   ]
  },
  {
   "cell_type": "markdown",
   "metadata": {},
   "source": [
    "## **Ratings Analysis**"
   ]
  },
  {
   "cell_type": "markdown",
   "metadata": {},
   "source": [
    "##### What is the average rating of apps in each category?"
   ]
  },
  {
   "cell_type": "code",
   "execution_count": 14,
   "metadata": {},
   "outputs": [
    {
     "name": "stdout",
     "output_type": "stream",
     "text": [
      "Category\n",
      "EVENTS                 4.40\n",
      "EDUCATION              4.36\n",
      "ART_AND_DESIGN         4.35\n",
      "BOOKS_AND_REFERENCE    4.33\n",
      "PERSONALIZATION        4.33\n",
      "PARENTING              4.30\n",
      "BEAUTY                 4.28\n",
      "SOCIAL                 4.26\n",
      "HEALTH_AND_FITNESS     4.25\n",
      "GAME                   4.25\n",
      "WEATHER                4.25\n",
      "SHOPPING               4.24\n",
      "SPORTS                 4.23\n",
      "LIBRARIES_AND_DEMO     4.21\n",
      "PRODUCTIVITY           4.21\n",
      "AUTO_AND_VEHICLES      4.21\n",
      "MEDICAL                4.20\n",
      "FAMILY                 4.19\n",
      "FOOD_AND_DRINK         4.19\n",
      "COMICS                 4.19\n",
      "HOUSE_AND_HOME         4.17\n",
      "BUSINESS               4.17\n",
      "PHOTOGRAPHY            4.17\n",
      "NEWS_AND_MAGAZINES     4.16\n",
      "COMMUNICATION          4.15\n",
      "FINANCE                4.14\n",
      "ENTERTAINMENT          4.14\n",
      "LIFESTYLE              4.13\n",
      "TRAVEL_AND_LOCAL       4.10\n",
      "TOOLS                  4.07\n",
      "VIDEO_PLAYERS          4.07\n",
      "MAPS_AND_NAVIGATION    4.06\n",
      "DATING                 4.04\n",
      "Name: Rating, dtype: float64\n"
     ]
    }
   ],
   "source": [
    "avg_rating_by_category = df.groupby('Category')['Rating'].mean().sort_values(ascending=False).round(2)\n",
    "print(avg_rating_by_category)"
   ]
  },
  {
   "cell_type": "markdown",
   "metadata": {},
   "source": [
    "##### Which app categories have the most apps rated above 4.5?"
   ]
  },
  {
   "cell_type": "code",
   "execution_count": 15,
   "metadata": {},
   "outputs": [
    {
     "data": {
      "text/plain": [
       "Category\n",
       "FAMILY                 342\n",
       "GAME                   159\n",
       "TOOLS                  111\n",
       "HEALTH_AND_FITNESS      89\n",
       "LIFESTYLE               81\n",
       "MEDICAL                 81\n",
       "PERSONALIZATION         78\n",
       "FINANCE                 70\n",
       "BOOKS_AND_REFERENCE     64\n",
       "PRODUCTIVITY            63\n",
       "BUSINESS                61\n",
       "SPORTS                  55\n",
       "SOCIAL                  47\n",
       "NEWS_AND_MAGAZINES      38\n",
       "PHOTOGRAPHY             37\n",
       "EDUCATION               33\n",
       "SHOPPING                32\n",
       "COMMUNICATION           24\n",
       "FOOD_AND_DRINK          23\n",
       "ART_AND_DESIGN          22\n",
       "TRAVEL_AND_LOCAL        22\n",
       "AUTO_AND_VEHICLES       21\n",
       "VIDEO_PLAYERS           21\n",
       "DATING                  20\n",
       "EVENTS                  19\n",
       "PARENTING               19\n",
       "COMICS                  13\n",
       "MAPS_AND_NAVIGATION     12\n",
       "BEAUTY                  11\n",
       "LIBRARIES_AND_DEMO      10\n",
       "WEATHER                  9\n",
       "ENTERTAINMENT            8\n",
       "HOUSE_AND_HOME           7\n",
       "Name: count, dtype: int64"
      ]
     },
     "execution_count": 15,
     "metadata": {},
     "output_type": "execute_result"
    }
   ],
   "source": [
    "df[df['Rating'] > 4.5]['Category'].value_counts()"
   ]
  },
  {
   "cell_type": "markdown",
   "metadata": {},
   "source": [
    "##### Are paid apps rated higher than free apps on average?"
   ]
  },
  {
   "cell_type": "code",
   "execution_count": 16,
   "metadata": {},
   "outputs": [
    {
     "data": {
      "text/plain": [
       "array(['Free', 'Paid'], dtype=object)"
      ]
     },
     "execution_count": 16,
     "metadata": {},
     "output_type": "execute_result"
    }
   ],
   "source": [
    "df['Type'].unique()"
   ]
  },
  {
   "cell_type": "code",
   "execution_count": 17,
   "metadata": {},
   "outputs": [
    {
     "data": {
      "text/plain": [
       "Type\n",
       "Free    4.19\n",
       "Paid    4.27\n",
       "Name: Rating, dtype: float64"
      ]
     },
     "execution_count": 17,
     "metadata": {},
     "output_type": "execute_result"
    }
   ],
   "source": [
    "df.groupby('Type')['Rating'].mean().round(2)"
   ]
  },
  {
   "cell_type": "markdown",
   "metadata": {},
   "source": [
    "*This would mean Paid apps are rated slightly higher on average than Free apps.*"
   ]
  },
  {
   "cell_type": "markdown",
   "metadata": {},
   "source": [
    "## **Free v/s Paid Apps**"
   ]
  },
  {
   "cell_type": "markdown",
   "metadata": {},
   "source": [
    "##### What percentage of apps are Free vs Paid?"
   ]
  },
  {
   "cell_type": "code",
   "execution_count": 18,
   "metadata": {},
   "outputs": [
    {
     "data": {
      "text/plain": [
       "Type\n",
       "Free    92.0\n",
       "Paid     8.0\n",
       "Name: proportion, dtype: float64"
      ]
     },
     "execution_count": 18,
     "metadata": {},
     "output_type": "execute_result"
    }
   ],
   "source": [
    "df['Type'].value_counts(normalize=True).round(2) * 100"
   ]
  },
  {
   "cell_type": "markdown",
   "metadata": {},
   "source": [
    "*This would mean 92.17% of apps are Free, and 7.83% are Paid.*"
   ]
  },
  {
   "cell_type": "markdown",
   "metadata": {},
   "source": [
    "##### What is the average price of paid apps by category?"
   ]
  },
  {
   "cell_type": "code",
   "execution_count": 19,
   "metadata": {},
   "outputs": [
    {
     "name": "stdout",
     "output_type": "stream",
     "text": [
      "Category\n",
      "FINANCE                170.64\n",
      "LIFESTYLE              124.26\n",
      "EVENTS                 109.99\n",
      "BUSINESS                14.61\n",
      "FAMILY                  13.11\n",
      "MEDICAL                 12.00\n",
      "PRODUCTIVITY             8.96\n",
      "PHOTOGRAPHY              6.23\n",
      "MAPS_AND_NAVIGATION      5.39\n",
      "SOCIAL                   5.32\n",
      "PARENTING                4.79\n",
      "DATING                   4.57\n",
      "EDUCATION                4.49\n",
      "AUTO_AND_VEHICLES        4.49\n",
      "HEALTH_AND_FITNESS       4.29\n",
      "BOOKS_AND_REFERENCE      4.28\n",
      "FOOD_AND_DRINK           4.24\n",
      "SPORTS                   4.17\n",
      "TRAVEL_AND_LOCAL         4.16\n",
      "WEATHER                  4.05\n",
      "ENTERTAINMENT            3.99\n",
      "GAME                     3.47\n",
      "TOOLS                    3.43\n",
      "COMMUNICATION            3.08\n",
      "SHOPPING                 2.74\n",
      "VIDEO_PLAYERS            2.62\n",
      "NEWS_AND_MAGAZINES       1.99\n",
      "ART_AND_DESIGN           1.99\n",
      "PERSONALIZATION          1.86\n",
      "LIBRARIES_AND_DEMO       0.99\n",
      "BEAUTY                    NaN\n",
      "COMICS                    NaN\n",
      "HOUSE_AND_HOME            NaN\n",
      "Name: Price, dtype: float64\n"
     ]
    }
   ],
   "source": [
    "paid_apps = df[df['Type'] == 'Paid']\n",
    "\n",
    "average_price_by_category = paid_apps.groupby('Category')['Price'].mean().sort_values(ascending=False).round(2)\n",
    "print(average_price_by_category)"
   ]
  },
  {
   "cell_type": "markdown",
   "metadata": {},
   "source": [
    "##### Which are the most expensive apps, and do they have high ratings or installs?"
   ]
  },
  {
   "cell_type": "code",
   "execution_count": 20,
   "metadata": {},
   "outputs": [
    {
     "data": {
      "text/html": [
       "<div>\n",
       "<style scoped>\n",
       "    .dataframe tbody tr th:only-of-type {\n",
       "        vertical-align: middle;\n",
       "    }\n",
       "\n",
       "    .dataframe tbody tr th {\n",
       "        vertical-align: top;\n",
       "    }\n",
       "\n",
       "    .dataframe thead th {\n",
       "        text-align: right;\n",
       "    }\n",
       "</style>\n",
       "<table border=\"1\" class=\"dataframe\">\n",
       "  <thead>\n",
       "    <tr style=\"text-align: right;\">\n",
       "      <th></th>\n",
       "      <th>App</th>\n",
       "      <th>Price</th>\n",
       "      <th>Rating</th>\n",
       "      <th>Installs</th>\n",
       "    </tr>\n",
       "  </thead>\n",
       "  <tbody>\n",
       "    <tr>\n",
       "      <th>4367</th>\n",
       "      <td>I'm Rich - Trump Edition</td>\n",
       "      <td>400.00</td>\n",
       "      <td>3.6</td>\n",
       "      <td>10000</td>\n",
       "    </tr>\n",
       "    <tr>\n",
       "      <th>9933</th>\n",
       "      <td>I'm Rich/Eu sou Rico/أنا غني/我很有錢</td>\n",
       "      <td>399.99</td>\n",
       "      <td>4.3</td>\n",
       "      <td>0</td>\n",
       "    </tr>\n",
       "    <tr>\n",
       "      <th>5354</th>\n",
       "      <td>I am Rich Plus</td>\n",
       "      <td>399.99</td>\n",
       "      <td>4.0</td>\n",
       "      <td>10000</td>\n",
       "    </tr>\n",
       "    <tr>\n",
       "      <th>5351</th>\n",
       "      <td>I am rich</td>\n",
       "      <td>399.99</td>\n",
       "      <td>3.8</td>\n",
       "      <td>100000</td>\n",
       "    </tr>\n",
       "    <tr>\n",
       "      <th>5369</th>\n",
       "      <td>I am Rich</td>\n",
       "      <td>399.99</td>\n",
       "      <td>4.3</td>\n",
       "      <td>5000</td>\n",
       "    </tr>\n",
       "    <tr>\n",
       "      <th>5373</th>\n",
       "      <td>I AM RICH PRO PLUS</td>\n",
       "      <td>399.99</td>\n",
       "      <td>4.0</td>\n",
       "      <td>1000</td>\n",
       "    </tr>\n",
       "    <tr>\n",
       "      <th>4197</th>\n",
       "      <td>most expensive app (H)</td>\n",
       "      <td>399.99</td>\n",
       "      <td>4.3</td>\n",
       "      <td>100</td>\n",
       "    </tr>\n",
       "    <tr>\n",
       "      <th>5359</th>\n",
       "      <td>I am rich(premium)</td>\n",
       "      <td>399.99</td>\n",
       "      <td>3.5</td>\n",
       "      <td>5000</td>\n",
       "    </tr>\n",
       "    <tr>\n",
       "      <th>5362</th>\n",
       "      <td>I Am Rich Pro</td>\n",
       "      <td>399.99</td>\n",
       "      <td>4.4</td>\n",
       "      <td>5000</td>\n",
       "    </tr>\n",
       "    <tr>\n",
       "      <th>5356</th>\n",
       "      <td>I Am Rich Premium</td>\n",
       "      <td>399.99</td>\n",
       "      <td>4.1</td>\n",
       "      <td>50000</td>\n",
       "    </tr>\n",
       "  </tbody>\n",
       "</table>\n",
       "</div>"
      ],
      "text/plain": [
       "                                    App   Price  Rating  Installs\n",
       "4367           I'm Rich - Trump Edition  400.00     3.6     10000\n",
       "9933  I'm Rich/Eu sou Rico/أنا غني/我很有錢  399.99     4.3         0\n",
       "5354                     I am Rich Plus  399.99     4.0     10000\n",
       "5351                          I am rich  399.99     3.8    100000\n",
       "5369                          I am Rich  399.99     4.3      5000\n",
       "5373                 I AM RICH PRO PLUS  399.99     4.0      1000\n",
       "4197             most expensive app (H)  399.99     4.3       100\n",
       "5359                 I am rich(premium)  399.99     3.5      5000\n",
       "5362                      I Am Rich Pro  399.99     4.4      5000\n",
       "5356                  I Am Rich Premium  399.99     4.1     50000"
      ]
     },
     "execution_count": 20,
     "metadata": {},
     "output_type": "execute_result"
    }
   ],
   "source": [
    "most_expensive = df.sort_values(by='Price', ascending=False)\n",
    "\n",
    "most_expensive[['App', 'Price', 'Rating', 'Installs']].head(10)"
   ]
  },
  {
   "cell_type": "markdown",
   "metadata": {},
   "source": [
    "*The most expensive apps (around $400) are novelty apps like “I Am Rich” variants. While they have moderately good ratings (mostly between 3.5 to 4.4), they have very few installs — mostly under 10,000, some even 0 installs.*"
   ]
  },
  {
   "cell_type": "markdown",
   "metadata": {},
   "source": [
    "##### Do paid apps receive more reviews than free apps on average?"
   ]
  },
  {
   "cell_type": "code",
   "execution_count": 21,
   "metadata": {},
   "outputs": [
    {
     "data": {
      "text/plain": [
       "Type\n",
       "Free    234270.0\n",
       "Paid      8725.0\n",
       "Name: Reviews, dtype: float64"
      ]
     },
     "execution_count": 21,
     "metadata": {},
     "output_type": "execute_result"
    }
   ],
   "source": [
    "df.groupby('Type')['Reviews'].mean().round(0)"
   ]
  },
  {
   "cell_type": "markdown",
   "metadata": {},
   "source": [
    "*No, free apps have more reviews than paid apps on average.*"
   ]
  },
  {
   "cell_type": "markdown",
   "metadata": {},
   "source": [
    "## **Category-Wise Analysis**"
   ]
  },
  {
   "cell_type": "markdown",
   "metadata": {},
   "source": [
    "##### Which category has the highest number of apps?"
   ]
  },
  {
   "cell_type": "code",
   "execution_count": 22,
   "metadata": {},
   "outputs": [
    {
     "data": {
      "text/plain": [
       "Category\n",
       "FAMILY      1831\n",
       "GAME         959\n",
       "TOOLS        827\n",
       "BUSINESS     420\n",
       "MEDICAL      395\n",
       "Name: count, dtype: int64"
      ]
     },
     "execution_count": 22,
     "metadata": {},
     "output_type": "execute_result"
    }
   ],
   "source": [
    "df['Category'].value_counts().head()"
   ]
  },
  {
   "cell_type": "markdown",
   "metadata": {},
   "source": [
    "## **Update Frequency Trends**"
   ]
  },
  {
   "cell_type": "markdown",
   "metadata": {},
   "source": [
    "##### Which year had the most app updates?"
   ]
  },
  {
   "cell_type": "code",
   "execution_count": 24,
   "metadata": {},
   "outputs": [
    {
     "data": {
      "text/plain": [
       "Last Updated Year\n",
       "2018.0    6283\n",
       "2017.0    1794\n",
       "2016.0     779\n",
       "2015.0     449\n",
       "2014.0     203\n",
       "Name: count, dtype: int64"
      ]
     },
     "execution_count": 24,
     "metadata": {},
     "output_type": "execute_result"
    }
   ],
   "source": [
    "df['Last Updated Year'].value_counts().sort_values(ascending=False).head()"
   ]
  },
  {
   "cell_type": "markdown",
   "metadata": {},
   "source": [
    "##### Which month and year had the highest number of app updates?"
   ]
  },
  {
   "cell_type": "code",
   "execution_count": 25,
   "metadata": {},
   "outputs": [
    {
     "data": {
      "text/plain": [
       "Last Updated Month  Last Updated Year\n",
       "July                2018.0               2320\n",
       "August              2018.0                977\n",
       "June                2018.0                912\n",
       "May                 2018.0                691\n",
       "March               2018.0                407\n",
       "Name: count, dtype: int64"
      ]
     },
     "execution_count": 25,
     "metadata": {},
     "output_type": "execute_result"
    }
   ],
   "source": [
    "df[['Last Updated Month', 'Last Updated Year']].value_counts().sort_values(ascending=False).head()"
   ]
  },
  {
   "cell_type": "markdown",
   "metadata": {},
   "source": [
    "## **Data Quality Checks**"
   ]
  },
  {
   "cell_type": "markdown",
   "metadata": {},
   "source": [
    "##### Do any apps have missing or anomalous data like extremely high price or negative values?"
   ]
  },
  {
   "cell_type": "code",
   "execution_count": 26,
   "metadata": {},
   "outputs": [
    {
     "name": "stdout",
     "output_type": "stream",
     "text": [
      "                                    App   Price  Rating  Installs\n",
      "4197             most expensive app (H)  399.99     4.3       100\n",
      "4362                         💎 I'm rich  399.99     3.8     10000\n",
      "4367           I'm Rich - Trump Edition  400.00     3.6     10000\n",
      "5351                          I am rich  399.99     3.8    100000\n",
      "5354                     I am Rich Plus  399.99     4.0     10000\n",
      "5356                  I Am Rich Premium  399.99     4.1     50000\n",
      "5357                I am extremely Rich  379.99     2.9      1000\n",
      "5358                         I am Rich!  399.99     3.8      1000\n",
      "5359                 I am rich(premium)  399.99     3.5      5000\n",
      "5362                      I Am Rich Pro  399.99     4.4      5000\n",
      "5364     I am rich (Most expensive app)  399.99     4.1      1000\n",
      "5366                          I Am Rich  389.99     3.6     10000\n",
      "5369                          I am Rich  399.99     4.3      5000\n",
      "5373                 I AM RICH PRO PLUS  399.99     4.0      1000\n",
      "9916                        Eu Sou Rico  394.99     4.3         0\n",
      "9933  I'm Rich/Eu sou Rico/أنا غني/我很有錢  399.99     4.3         0\n"
     ]
    }
   ],
   "source": [
    "anomalous_prices = df[df['Price'] > 300][['App', 'Price', 'Rating', 'Installs']]\n",
    "print(anomalous_prices)"
   ]
  },
  {
   "cell_type": "code",
   "execution_count": 27,
   "metadata": {},
   "outputs": [
    {
     "name": "stdout",
     "output_type": "stream",
     "text": [
      "Empty DataFrame\n",
      "Columns: [App, Category, Rating, Reviews, Size, Installs, Type, Price, Content Rating, Last Updated Date, Last Updated Month, Last Updated Year]\n",
      "Index: []\n"
     ]
    }
   ],
   "source": [
    "negative_prices = df[df['Price'] < 0]\n",
    "print(negative_prices)"
   ]
  },
  {
   "cell_type": "markdown",
   "metadata": {},
   "source": [
    "\n",
    "# **📊 Google Play Store Data Analysis Summary**"
   ]
  },
  {
   "cell_type": "markdown",
   "metadata": {},
   "source": [
    "\n",
    "---\n",
    "\n",
    "## 🧩 1. App Popularity & User Engagement\n",
    "\n",
    "### Q1) Which app category has the most apps listed?\n",
    "Top categories with the highest number of apps:\n",
    "- **FAMILY** — 1831 apps\n",
    "- **GAME** — 959 apps\n",
    "- **TOOLS** — 827 apps  \n",
    "*These categories dominate the Play Store by volume.*\n",
    "\n",
    "---\n",
    "\n",
    "### Q2) Which app has the highest number of installs overall?\n",
    "- **Google Play Games** with **1,000,000,000 installs**\n",
    "\n",
    "---\n",
    "\n",
    "### Q3) Which category has the most apps with 1M+ installs?\n",
    "- **GAME** — 553 apps  \n",
    "*A reflection of how popular mobile gaming is.*\n",
    "\n",
    "---\n",
    "\n",
    "### Q4) Which app has received the most reviews?\n",
    "- **Facebook** — **78,158,306 reviews**\n",
    "\n",
    "---\n",
    "\n",
    "### Q5) Which category has the highest average number of installs?\n",
    "Top 5 categories by average installs:\n",
    "- **COMMUNICATION** — 35M\n",
    "- **VIDEO_PLAYERS** — 24M\n",
    "- **SOCIAL** — 23M  \n",
    "*Communication and social apps dominate user engagement.*\n",
    "\n",
    "---\n",
    "\n",
    "### Q6) Is there any correlation between high ratings and high installs?\n",
    "- Correlation coefficient: **~0.03**\n",
    "- *There is **no strong correlation** between app ratings and install counts.*\n",
    "\n",
    "---\n",
    "\n",
    "### Q7) Is there a relationship between app size and installs?\n",
    "- Correlation coefficient: **~0.03**\n",
    "- *App size has **almost no effect** on how many times it gets installed.*\n",
    "\n",
    "---\n",
    "\n",
    "## ⭐ 2. Ratings Analysis\n",
    "\n",
    "### Q1) What is the average rating of apps in each category?\n",
    "Top-rated categories:\n",
    "- **EVENTS** — 4.40\n",
    "- **EDUCATION** — 4.36\n",
    "- **ART_AND_DESIGN** — 4.35\n",
    "\n",
    "*These app types are well-liked among users.*\n",
    "\n",
    "---\n",
    "\n",
    "### Q2) Which categories have the most apps rated above 4.5?\n",
    "- **FAMILY** — 342 apps\n",
    "- **GAME** — 159 apps\n",
    "- **TOOLS** — 111 apps\n",
    "\n",
    "*High ratings are also seen in health, personalization, and finance categories.*\n",
    "\n",
    "---\n",
    "\n",
    "### Q3) Are paid apps rated higher than free apps on average?\n",
    "- **Paid apps** — 4.27 average rating\n",
    "- **Free apps** — 4.19 average rating  \n",
    "*Paid apps are slightly better rated on average.*\n",
    "\n",
    "---\n",
    "\n",
    "## 💸 3. Free vs Paid Apps\n",
    "\n",
    "### Q1) What percentage of apps are Free vs Paid?\n",
    "- **Free**: 92.17%\n",
    "- **Paid**: 7.83%\n",
    "\n",
    "---\n",
    "\n",
    "### Q2) Average price of paid apps by category\n",
    "Highest average prices:\n",
    "- **FINANCE** — $170.64\n",
    "- **LIFESTYLE** — $124.26\n",
    "- **EVENTS** — $109.99\n",
    "\n",
    "---\n",
    "\n",
    "### Q3) Most expensive apps and their popularity:\n",
    "All priced at ~$400:\n",
    "- **I am Rich**, **I'm Rich - Trump Edition**, etc.\n",
    "- Ratings: 3.5–4.4\n",
    "- Installs: Most under 10,000\n",
    "\n",
    "*These are novelty apps, not widely used despite high cost.*\n",
    "\n",
    "---\n",
    "\n",
    "### Q4) Do paid apps get more reviews?\n",
    "- **Free apps** — Avg. 234,270 reviews\n",
    "- **Paid apps** — Avg. 8,725 reviews\n",
    "\n",
    "*No — free apps receive far more reviews.*\n",
    "\n",
    "---\n",
    "\n",
    "## 🗂️ 4. Category-Wise Summary\n",
    "\n",
    "### Which category has the highest number of apps?\n",
    "- **FAMILY**, **GAME**, **TOOLS** again top the list.\n",
    "\n",
    "---\n",
    "\n",
    "## 🔄 5. App Update Trends\n",
    "\n",
    "### Q1) Which year had the most app updates?\n",
    "- **2018** — 6,283 updates\n",
    "- **2017** — 1,794\n",
    "- *Most apps were last updated in 2018.*\n",
    "\n",
    "### Q2) Which month/year had the most updates?\n",
    "- **July 2018** — 2,320 updates\n",
    "\n",
    "---\n",
    "\n",
    "## 🚨 6. Data Quality Issues\n",
    "\n",
    "### Q1) Are there any apps with extreme prices or anomalies?\n",
    "Apps with prices close to $400 include:\n",
    "- *I'm Rich*, *I Am Rich Plus*, etc.\n",
    "- Ratings between 3.5–4.4, installs between 0–100,000\n",
    "\n",
    "*Anomalies: high price, low install apps — mostly novelty entries.*\n",
    "\n",
    "---"
   ]
  }
 ],
 "metadata": {
  "kernelspec": {
   "display_name": ".venv",
   "language": "python",
   "name": "python3"
  },
  "language_info": {
   "codemirror_mode": {
    "name": "ipython",
    "version": 3
   },
   "file_extension": ".py",
   "mimetype": "text/x-python",
   "name": "python",
   "nbconvert_exporter": "python",
   "pygments_lexer": "ipython3",
   "version": "3.13.3"
  }
 },
 "nbformat": 4,
 "nbformat_minor": 2
}
